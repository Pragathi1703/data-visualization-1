{
 "cells": [
  {
   "cell_type": "markdown",
   "id": "f5c609e6",
   "metadata": {},
   "source": [
    "# Retrieving an image over HTTP"
   ]
  },
  {
   "cell_type": "code",
   "execution_count": 12,
   "id": "293b216a",
   "metadata": {},
   "outputs": [
    {
     "name": "stdout",
     "output_type": "stream",
     "text": [
      "Image downloaded and saved as downloaded_image.jpg\n"
     ]
    }
   ],
   "source": [
    "# Importing necessary libraries \n",
    "import requests \n",
    "\n",
    "# URL of the image \n",
    "image_url = \"https://www.shutterstock.com/image-photo/closeup-shortlink-welded-galvanized-chain-260nw-2514997385.jpg\" \n",
    "\n",
    "# Send a GET request to fetch the image \n",
    "response = requests.get(image_url) \n",
    "\n",
    "# Check if the request was successful \n",
    "if response.status_code == 200: \n",
    "    # Open a file to write the image data \n",
    "    with open(\"downloaded_image.jpg\", \"wb\") as file: \n",
    "        file.write(response.content) \n",
    "    print(\"Image downloaded and saved as downloaded_image.jpg\") \n",
    "else: \n",
    "    print(\"Failed to retrieve image. Status code:\", response.status_code)\n"
   ]
  },
  {
   "cell_type": "code",
   "execution_count": null,
   "id": "0f17abab",
   "metadata": {},
   "outputs": [],
   "source": []
  }
 ],
 "metadata": {
  "kernelspec": {
   "display_name": "Python 3 (ipykernel)",
   "language": "python",
   "name": "python3"
  },
  "language_info": {
   "codemirror_mode": {
    "name": "ipython",
    "version": 3
   },
   "file_extension": ".py",
   "mimetype": "text/x-python",
   "name": "python",
   "nbconvert_exporter": "python",
   "pygments_lexer": "ipython3",
   "version": "3.7.9"
  }
 },
 "nbformat": 4,
 "nbformat_minor": 5
}
